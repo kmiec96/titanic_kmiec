{
 "cells": [
  {
   "cell_type": "code",
   "execution_count": 2,
   "metadata": {},
   "outputs": [
    {
     "name": "stdout",
     "output_type": "stream",
     "text": [
      "DONE\n"
     ]
    }
   ],
   "source": [
    "import pandas as pd\n",
    "import numpy as np\n",
    "import matplotlib.pyplot as plt\n",
    "import itertools as it\n",
    "from sklearn.metrics import roc_curve, roc_auc_score\n",
    "\n",
    "print(\"DONE\")"
   ]
  },
  {
   "cell_type": "markdown",
   "metadata": {},
   "source": [
    "We will start by reading in the by now standard Titanic dataset. It contains infromation about passengers of the Titanic. The informations contain i.a. sex, age, name and familly and passenger class as well as information if the passenger survived or died in the disaster. You can find more information about this data set [here](http://campus.lakeforest.edu/frank/FILES/MLFfiles/Bio150/Titanic/TitanicMETA.pdf). "
   ]
  },
  {
   "cell_type": "markdown",
   "metadata": {},
   "source": [
    "The data set is in \"coma separted values\" (csv) format and the read it we will use the [pandas](https://pandas.pydata.org) library. Pandas library provides tools for manipulating  data frames and series and is widly used in data science projects. "
   ]
  },
  {
   "cell_type": "code",
   "execution_count": 3,
   "metadata": {},
   "outputs": [],
   "source": [
    "data = pd.read_csv(\"titanic3.csv\")"
   ]
  },
  {
   "cell_type": "markdown",
   "metadata": {},
   "source": [
    "We can check what attributes are stored in the DataFrame by listing the column names:"
   ]
  },
  {
   "cell_type": "code",
   "execution_count": 4,
   "metadata": {},
   "outputs": [
    {
     "data": {
      "text/plain": [
       "Index(['Unnamed: 0', 'pclass', 'survived', 'name', 'sex', 'age', 'sibsp',\n",
       "       'parch', 'ticket', 'fare', 'cabin', 'embarked', 'boat', 'body',\n",
       "       'home.dest'],\n",
       "      dtype='object')"
      ]
     },
     "execution_count": 4,
     "metadata": {},
     "output_type": "execute_result"
    }
   ],
   "source": [
    "data.columns"
   ]
  },
  {
   "cell_type": "markdown",
   "metadata": {},
   "source": [
    "or get a quick preview using ```head``` function: "
   ]
  },
  {
   "cell_type": "code",
   "execution_count": 5,
   "metadata": {},
   "outputs": [
    {
     "data": {
      "text/html": [
       "<div>\n",
       "<style scoped>\n",
       "    .dataframe tbody tr th:only-of-type {\n",
       "        vertical-align: middle;\n",
       "    }\n",
       "\n",
       "    .dataframe tbody tr th {\n",
       "        vertical-align: top;\n",
       "    }\n",
       "\n",
       "    .dataframe thead th {\n",
       "        text-align: right;\n",
       "    }\n",
       "</style>\n",
       "<table border=\"1\" class=\"dataframe\">\n",
       "  <thead>\n",
       "    <tr style=\"text-align: right;\">\n",
       "      <th></th>\n",
       "      <th>Unnamed: 0</th>\n",
       "      <th>pclass</th>\n",
       "      <th>survived</th>\n",
       "      <th>name</th>\n",
       "      <th>sex</th>\n",
       "      <th>age</th>\n",
       "      <th>sibsp</th>\n",
       "      <th>parch</th>\n",
       "      <th>ticket</th>\n",
       "      <th>fare</th>\n",
       "      <th>cabin</th>\n",
       "      <th>embarked</th>\n",
       "      <th>boat</th>\n",
       "      <th>body</th>\n",
       "      <th>home.dest</th>\n",
       "    </tr>\n",
       "  </thead>\n",
       "  <tbody>\n",
       "    <tr>\n",
       "      <th>0</th>\n",
       "      <td>0</td>\n",
       "      <td>1</td>\n",
       "      <td>1</td>\n",
       "      <td>Allen, Miss. Elisabeth Walton</td>\n",
       "      <td>female</td>\n",
       "      <td>29.0000</td>\n",
       "      <td>0</td>\n",
       "      <td>0</td>\n",
       "      <td>24160</td>\n",
       "      <td>211.3375</td>\n",
       "      <td>B5</td>\n",
       "      <td>S</td>\n",
       "      <td>2</td>\n",
       "      <td>NaN</td>\n",
       "      <td>St Louis, MO</td>\n",
       "    </tr>\n",
       "    <tr>\n",
       "      <th>1</th>\n",
       "      <td>1</td>\n",
       "      <td>1</td>\n",
       "      <td>1</td>\n",
       "      <td>Allison, Master. Hudson Trevor</td>\n",
       "      <td>male</td>\n",
       "      <td>0.9167</td>\n",
       "      <td>1</td>\n",
       "      <td>2</td>\n",
       "      <td>113781</td>\n",
       "      <td>151.5500</td>\n",
       "      <td>C22 C26</td>\n",
       "      <td>S</td>\n",
       "      <td>11</td>\n",
       "      <td>NaN</td>\n",
       "      <td>Montreal, PQ / Chesterville, ON</td>\n",
       "    </tr>\n",
       "    <tr>\n",
       "      <th>2</th>\n",
       "      <td>2</td>\n",
       "      <td>1</td>\n",
       "      <td>0</td>\n",
       "      <td>Allison, Miss. Helen Loraine</td>\n",
       "      <td>female</td>\n",
       "      <td>2.0000</td>\n",
       "      <td>1</td>\n",
       "      <td>2</td>\n",
       "      <td>113781</td>\n",
       "      <td>151.5500</td>\n",
       "      <td>C22 C26</td>\n",
       "      <td>S</td>\n",
       "      <td>NaN</td>\n",
       "      <td>NaN</td>\n",
       "      <td>Montreal, PQ / Chesterville, ON</td>\n",
       "    </tr>\n",
       "    <tr>\n",
       "      <th>3</th>\n",
       "      <td>3</td>\n",
       "      <td>1</td>\n",
       "      <td>0</td>\n",
       "      <td>Allison, Mr. Hudson Joshua Creighton</td>\n",
       "      <td>male</td>\n",
       "      <td>30.0000</td>\n",
       "      <td>1</td>\n",
       "      <td>2</td>\n",
       "      <td>113781</td>\n",
       "      <td>151.5500</td>\n",
       "      <td>C22 C26</td>\n",
       "      <td>S</td>\n",
       "      <td>NaN</td>\n",
       "      <td>135.0</td>\n",
       "      <td>Montreal, PQ / Chesterville, ON</td>\n",
       "    </tr>\n",
       "    <tr>\n",
       "      <th>4</th>\n",
       "      <td>4</td>\n",
       "      <td>1</td>\n",
       "      <td>0</td>\n",
       "      <td>Allison, Mrs. Hudson J C (Bessie Waldo Daniels)</td>\n",
       "      <td>female</td>\n",
       "      <td>25.0000</td>\n",
       "      <td>1</td>\n",
       "      <td>2</td>\n",
       "      <td>113781</td>\n",
       "      <td>151.5500</td>\n",
       "      <td>C22 C26</td>\n",
       "      <td>S</td>\n",
       "      <td>NaN</td>\n",
       "      <td>NaN</td>\n",
       "      <td>Montreal, PQ / Chesterville, ON</td>\n",
       "    </tr>\n",
       "  </tbody>\n",
       "</table>\n",
       "</div>"
      ],
      "text/plain": [
       "   Unnamed: 0  pclass  survived  \\\n",
       "0           0       1         1   \n",
       "1           1       1         1   \n",
       "2           2       1         0   \n",
       "3           3       1         0   \n",
       "4           4       1         0   \n",
       "\n",
       "                                              name     sex      age  sibsp  \\\n",
       "0                    Allen, Miss. Elisabeth Walton  female  29.0000      0   \n",
       "1                   Allison, Master. Hudson Trevor    male   0.9167      1   \n",
       "2                     Allison, Miss. Helen Loraine  female   2.0000      1   \n",
       "3             Allison, Mr. Hudson Joshua Creighton    male  30.0000      1   \n",
       "4  Allison, Mrs. Hudson J C (Bessie Waldo Daniels)  female  25.0000      1   \n",
       "\n",
       "   parch  ticket      fare    cabin embarked boat   body  \\\n",
       "0      0   24160  211.3375       B5        S    2    NaN   \n",
       "1      2  113781  151.5500  C22 C26        S   11    NaN   \n",
       "2      2  113781  151.5500  C22 C26        S  NaN    NaN   \n",
       "3      2  113781  151.5500  C22 C26        S  NaN  135.0   \n",
       "4      2  113781  151.5500  C22 C26        S  NaN    NaN   \n",
       "\n",
       "                         home.dest  \n",
       "0                     St Louis, MO  \n",
       "1  Montreal, PQ / Chesterville, ON  \n",
       "2  Montreal, PQ / Chesterville, ON  \n",
       "3  Montreal, PQ / Chesterville, ON  \n",
       "4  Montreal, PQ / Chesterville, ON  "
      ]
     },
     "execution_count": 5,
     "metadata": {},
     "output_type": "execute_result"
    }
   ],
   "source": [
    "data.head()"
   ]
  },
  {
   "cell_type": "markdown",
   "metadata": {},
   "source": [
    "For the description of the features please see the link given above. "
   ]
  },
  {
   "cell_type": "markdown",
   "metadata": {},
   "source": [
    "Another usefull function is ```info```:"
   ]
  },
  {
   "cell_type": "code",
   "execution_count": 6,
   "metadata": {},
   "outputs": [
    {
     "name": "stdout",
     "output_type": "stream",
     "text": [
      "<class 'pandas.core.frame.DataFrame'>\n",
      "RangeIndex: 1309 entries, 0 to 1308\n",
      "Data columns (total 15 columns):\n",
      " #   Column      Non-Null Count  Dtype  \n",
      "---  ------      --------------  -----  \n",
      " 0   Unnamed: 0  1309 non-null   int64  \n",
      " 1   pclass      1309 non-null   int64  \n",
      " 2   survived    1309 non-null   int64  \n",
      " 3   name        1309 non-null   object \n",
      " 4   sex         1309 non-null   object \n",
      " 5   age         1046 non-null   float64\n",
      " 6   sibsp       1309 non-null   int64  \n",
      " 7   parch       1309 non-null   int64  \n",
      " 8   ticket      1309 non-null   object \n",
      " 9   fare        1308 non-null   float64\n",
      " 10  cabin       295 non-null    object \n",
      " 11  embarked    1307 non-null   object \n",
      " 12  boat        486 non-null    object \n",
      " 13  body        121 non-null    float64\n",
      " 14  home.dest   745 non-null    object \n",
      "dtypes: float64(3), int64(5), object(7)\n",
      "memory usage: 153.5+ KB\n"
     ]
    }
   ],
   "source": [
    "data.info()"
   ]
  },
  {
   "cell_type": "markdown",
   "metadata": {},
   "source": [
    "As we can see not all attributes are know (non-null) for every passanger. This is a frequent situation in real datasets. "
   ]
  },
  {
   "cell_type": "markdown",
   "metadata": {},
   "source": [
    "## Problem 1"
   ]
  },
  {
   "cell_type": "markdown",
   "metadata": {},
   "source": [
    "a) Implement a Bayes classifier for predicting passenger survival  using sex and pclass  features. "
   ]
  },
  {
   "cell_type": "markdown",
   "metadata": {},
   "source": [
    "We will start by extracting from the frame the only the information we need:"
   ]
  },
  {
   "cell_type": "code",
   "execution_count": 7,
   "metadata": {},
   "outputs": [
    {
     "name": "stdout",
     "output_type": "stream",
     "text": [
      "1309\n",
      "1\n",
      "DONE\n"
     ]
    }
   ],
   "source": [
    "data_pclass_sex = data[['pclass', 'sex', 'survived']]\n",
    "\n",
    "\n",
    "dane=data_pclass_sex.values\n",
    "\n",
    "print(len(dane))\n",
    "print(dane[1][2])\n",
    "print(\"DONE\")"
   ]
  },
  {
   "cell_type": "code",
   "execution_count": 8,
   "metadata": {},
   "outputs": [
    {
     "name": "stdout",
     "output_type": "stream",
     "text": [
      "\n",
      "info: \n",
      "\n",
      "<class 'pandas.core.frame.DataFrame'>\n",
      "RangeIndex: 1309 entries, 0 to 1308\n",
      "Data columns (total 3 columns):\n",
      " #   Column    Non-Null Count  Dtype \n",
      "---  ------    --------------  ----- \n",
      " 0   pclass    1309 non-null   int64 \n",
      " 1   sex       1309 non-null   object\n",
      " 2   survived  1309 non-null   int64 \n",
      "dtypes: int64(2), object(1)\n",
      "memory usage: 30.8+ KB\n",
      "None\n"
     ]
    }
   ],
   "source": [
    "print(\"\\ninfo: \\n\")\n",
    "print(data_pclass_sex.info())"
   ]
  },
  {
   "cell_type": "markdown",
   "metadata": {},
   "source": [
    "Then we need to group passengers according to sex, class and survival status. This can be achived using  the ```groupby``` function:"
   ]
  },
  {
   "cell_type": "code",
   "execution_count": 9,
   "metadata": {},
   "outputs": [],
   "source": [
    "grouped = data_pclass_sex.groupby(['survived','sex','pclass'])"
   ]
  },
  {
   "cell_type": "markdown",
   "metadata": {},
   "source": [
    "We can count the number of passegers in each group using function ```size```:"
   ]
  },
  {
   "cell_type": "code",
   "execution_count": 10,
   "metadata": {},
   "outputs": [],
   "source": [
    "counts = grouped.size()"
   ]
  },
  {
   "cell_type": "markdown",
   "metadata": {},
   "source": [
    "Object ```counts``` contains all the information that we need to construct the classifier:"
   ]
  },
  {
   "cell_type": "code",
   "execution_count": 11,
   "metadata": {},
   "outputs": [
    {
     "name": "stdout",
     "output_type": "stream",
     "text": [
      "\n",
      "counts:\n",
      "\n",
      "survived  sex     pclass\n",
      "0         female  1           5\n",
      "                  2          12\n",
      "                  3         110\n",
      "          male    1         118\n",
      "                  2         146\n",
      "                  3         418\n",
      "1         female  1         139\n",
      "                  2          94\n",
      "                  3         106\n",
      "          male    1          61\n",
      "                  2          25\n",
      "                  3          75\n",
      "dtype: int64\n"
     ]
    }
   ],
   "source": [
    "print(\"\\ncounts:\\n\")\n",
    "print(counts)"
   ]
  },
  {
   "cell_type": "markdown",
   "metadata": {},
   "source": [
    "You can index ```counts``` to obtain information on specified subgroups. E.g. ```counts[0]``` is a subgroup  that contains people that perished in the disaster. "
   ]
  },
  {
   "cell_type": "code",
   "execution_count": 39,
   "metadata": {},
   "outputs": [
    {
     "name": "stdout",
     "output_type": "stream",
     "text": [
      "\n",
      "train counts:\n",
      "\n",
      "sex     pclass\n",
      "female  1           5\n",
      "        2          12\n",
      "        3         110\n",
      "male    1         118\n",
      "        2         146\n",
      "        3         418\n",
      "dtype: int64\n"
     ]
    }
   ],
   "source": [
    "print(\"\\ntrain counts:\\n\")\n",
    "print(counts[0])"
   ]
  },
  {
   "cell_type": "code",
   "execution_count": 41,
   "metadata": {},
   "outputs": [
    {
     "name": "stdout",
     "output_type": "stream",
     "text": [
      "\n",
      "females who parished:\n",
      "\n",
      "pclass\n",
      "1      5\n",
      "2     12\n",
      "3    110\n",
      "dtype: int64\n"
     ]
    }
   ],
   "source": [
    "print(\"\\nfemales who parished:\\n\")\n",
    "print(counts[(0,'female')])"
   ]
  },
  {
   "cell_type": "markdown",
   "metadata": {},
   "source": [
    "Function ```sum``` can be used to count all passengers in a given (sub)group:"
   ]
  },
  {
   "cell_type": "code",
   "execution_count": 12,
   "metadata": {},
   "outputs": [
    {
     "name": "stdout",
     "output_type": "stream",
     "text": [
      "1309 500 809\n",
      "True\n"
     ]
    }
   ],
   "source": [
    "n_passengers = counts.sum()\n",
    "n_survivors = counts[1].sum()\n",
    "n_dead = counts[0].sum()\n",
    "\n",
    "print(n_passengers, n_survivors, n_dead)\n",
    "print(n_survivors+n_dead==n_passengers)"
   ]
  },
  {
   "cell_type": "markdown",
   "metadata": {},
   "source": [
    "To implement classifier we need to calculate the conditional probability of survival given sex and class:"
   ]
  },
  {
   "cell_type": "markdown",
   "metadata": {},
   "source": [
    "$$P(surv|sex, pclass)$$"
   ]
  },
  {
   "cell_type": "markdown",
   "metadata": {},
   "source": [
    "We can use the Bayes theorem but it will be actually quicker to calculate it directly from the definition:"
   ]
  },
  {
   "cell_type": "markdown",
   "metadata": {},
   "source": [
    "$$P(surv|sex, pclass)=\\frac{P(surv,sex, pclass)}{P(sex, pclass)}\n",
    "\\approx \\frac{\\#(surv,sex, pclass)}{\\#(sex,pclass)}$$"
   ]
  },
  {
   "cell_type": "markdown",
   "metadata": {},
   "source": [
    "where by $\\#$ I have denoted the number of passengers with given attributes. For example the probability of survival for a women traveling in second class was: "
   ]
  },
  {
   "cell_type": "markdown",
   "metadata": {},
   "source": [
    "$$\\frac{\\text{number of women in second class that survived}}{\\text{number of women in second class}}$$"
   ]
  },
  {
   "cell_type": "markdown",
   "metadata": {},
   "source": [
    "That can be calculated using the `counts` object:"
   ]
  },
  {
   "cell_type": "code",
   "execution_count": 71,
   "metadata": {},
   "outputs": [
    {
     "name": "stdout",
     "output_type": "stream",
     "text": [
      "0.08784340182353934\n",
      "0.11000763941940413\n",
      "survived\n",
      "0      5\n",
      "1    139\n",
      "dtype: int64\n"
     ]
    }
   ],
   "source": [
    "print((counts.loc[:,'female',:].sum()/counts.sum())*(counts.loc[:,:,1].sum()/counts.sum()))\n",
    "print(counts.loc[:,'female',1].sum()/counts.sum())\n",
    "print(counts.loc[:,'female',1])"
   ]
  },
  {
   "cell_type": "markdown",
   "metadata": {},
   "source": [
    "This operation has to be repeated for every sex and class combination. "
   ]
  },
  {
   "cell_type": "markdown",
   "metadata": {},
   "source": [
    "b) Calculate TPR and FPR on the whole set. Draw the ROC curve and calculate AUC score"
   ]
  },
  {
   "cell_type": "markdown",
   "metadata": {},
   "source": [
    "c) Are those featuyres conditionally independent? "
   ]
  },
  {
   "cell_type": "markdown",
   "metadata": {},
   "source": [
    "d) Implement a Naive bayes classifier using the same features and compare it with a). "
   ]
  },
  {
   "cell_type": "code",
   "execution_count": 13,
   "metadata": {},
   "outputs": [
    {
     "name": "stdout",
     "output_type": "stream",
     "text": [
      "\n",
      "All combinations of passenger's features that I take into account.\n",
      "\n",
      "[(0, 'female', 1), (0, 'female', 2), (0, 'female', 3), (0, 'male', 1), (0, 'male', 2), (0, 'male', 3), (1, 'female', 1), (1, 'female', 2), (1, 'female', 3), (1, 'male', 1), (1, 'male', 2), (1, 'male', 3)]\n",
      "\n",
      "Number of possible combinations of these features.\n",
      "\n",
      "12\n",
      "\n",
      "Shape of the Bayes Classifier matrix:\n",
      "\n",
      "(3, 2)\n",
      "\n",
      "Bayes Classifier matrix:\n",
      "\n",
      "[[0.96527778 0.34078212]\n",
      " [0.88679245 0.14619883]\n",
      " [0.49074074 0.15212982]]\n",
      "\n",
      "Bayes Classifier Matrix, classification with treshold prob=0.5 output:\n",
      "\n",
      "[[1 0]\n",
      " [1 0]\n",
      " [0 0]]\n",
      "\n",
      "When prob>0.5 => return 1 else return 0\n",
      "\n",
      "\n",
      "TP(for prob=0.5 treshold):  233\n",
      "FP(for prob=0.5 treshold):  17\n",
      "TN(for prob=0.5 treshold):  792\n",
      "FN(for prob=0.5 treshold):  267\n",
      "\n",
      "\n",
      "TPR(for prob=0.5 treshold):  0.466\n",
      "FPR(for prob=0.5 treshold):  0.021013597033374538\n",
      "TNR(for prob=0.5 treshold):  0.9789864029666254\n",
      "FNR(for prob=0.5 treshold):  0.534\n",
      "TNR+FPR(for prob=0.5 treshold):  1\n",
      "TPR+FNR(for prob=0.5 treshold): 1\n",
      "\n",
      "Let's make the above more general. Let's calculate TPR and FPR for several different tresholds\n",
      "and plot them against each other.\n",
      "\n",
      "--------------ROC---------------RECEIVER---OPERATOR---CHARACTERSTIC-----------------------------------\n",
      "\n",
      "When prob>treshold => return 1 else return 0\n",
      "\n",
      "\n",
      "prob tresholds:\n",
      " [1.96527778 0.96527778 0.88679245 0.49074074 0.34078212 0.15212982\n",
      " 0.14619883]\n"
     ]
    },
    {
     "data": {
      "image/png": "[encoded data removed]",
      "text/plain": [
       "<Figure size 432x288 with 1 Axes>"
      ]
     },
     "metadata": {
      "needs_background": "light"
     },
     "output_type": "display_data"
    },
    {
     "name": "stdout",
     "output_type": "stream",
     "text": [
      "--------------AUC-------------------------------AREA---UNDER---CURVE-----------------------------------\n",
      "\n",
      "0.8200012360939432\n"
     ]
    }
   ],
   "source": [
    "#b).\n",
    "\n",
    "print(\"\\nAll combinations of passenger's features that I take into account.\\n\")\n",
    "combinations=counts.index.tolist()\n",
    "print(combinations)\n",
    "\n",
    "print(\"\\nNumber of possible combinations of these features.\\n\")\n",
    "n=len(combinations)\n",
    "print(n)\n",
    "\n",
    "Bayes=np.zeros((3,2))\n",
    "Bayes_rev=np.zeros((3,2)) \n",
    "\n",
    "print(\"\\nShape of the Bayes Classifier matrix:\\n\")\n",
    "print(Bayes.shape)\n",
    "\n",
    "for i in range(int(n/2)):\n",
    "    if (i%2==0):\n",
    "        ssx='female'\n",
    "    else:\n",
    "        ssx='male'\n",
    "    Bayes[i%3][i%2]=counts.loc[1,ssx,int((i%3)+1)].sum()/(counts.loc[1,ssx,int((i%3)+1)].sum()\\\n",
    "                                                    +counts.loc[0,ssx,int((i%3)+1)].sum())\n",
    "    Bayes_rev[i%3][i%2]=counts.loc[1,ssx,int((i%3)+1)].sum()/counts[1].sum()\n",
    "    \n",
    "print(\"\\nBayes Classifier matrix:\\n\")   \n",
    "print(np.matrix(Bayes))\n",
    "\n",
    "Bayes_bin=np.zeros((3,2))\n",
    "Bayes_bin=np.where(Bayes > 0.5, 1, 0)\n",
    "\n",
    "print(\"\\nBayes Classifier Matrix, classification with treshold prob=0.5 output:\\n\")\n",
    "print(np.matrix(Bayes_bin))\n",
    "\n",
    "TPR=0\n",
    "FPR=0\n",
    "TP=0\n",
    "FP=0\n",
    "TN=0\n",
    "FN=0\n",
    "P=0\n",
    "N=0\n",
    "score=[]\n",
    "y=[]\n",
    "\n",
    "for k in range(dane.shape[0]):\n",
    "    \n",
    "    pclasss=dane[k][0]\n",
    "    sexx=dane[k][1]\n",
    "    if(sexx=='male'):\n",
    "        sexx=1\n",
    "    else:\n",
    "        sexx=0\n",
    "    \n",
    "    label=dane[k][2]\n",
    "    \n",
    "    y.append([label])\n",
    "    score.append([Bayes[pclasss-1][sexx]])\n",
    "    \n",
    "    \n",
    "\n",
    "    if(Bayes_bin[pclasss-1][sexx]==1):   \n",
    "        if((dane[k][2]==Bayes_bin[pclasss-1][sexx])):\n",
    "            TP=TP+1\n",
    "            P=P+1\n",
    "        else:\n",
    "            FP=FP+1\n",
    "            N=N+1\n",
    "            \n",
    "    if(Bayes_bin[pclasss-1][sexx]==0):   \n",
    "        if((dane[k][2]==Bayes_bin[pclasss-1][sexx])):\n",
    "            TN=TN+1\n",
    "            N=N+1\n",
    "        else:\n",
    "            FN=FN+1\n",
    "            P=P+1\n",
    "\n",
    "print(\"\\nWhen prob>0.5 => return 1 else return 0\\n\")            \n",
    "print(\"\\nTP(for prob=0.5 treshold): \", int(TP))\n",
    "print(\"FP(for prob=0.5 treshold): \", int(FP))\n",
    "print(\"TN(for prob=0.5 treshold): \", int(TN))\n",
    "print(\"FN(for prob=0.5 treshold): \", int(FN))\n",
    "print(\"\\n\")\n",
    "print(\"TPR(for prob=0.5 treshold): \", float(TP/P))\n",
    "print(\"FPR(for prob=0.5 treshold): \", float(FP/N))\n",
    "print(\"TNR(for prob=0.5 treshold): \", float(TN/N))\n",
    "print(\"FNR(for prob=0.5 treshold): \", float(FN/P))\n",
    "\n",
    "print(\"TNR+FPR(for prob=0.5 treshold): \", int((TN+FP)/N))\n",
    "print(\"TPR+FNR(for prob=0.5 treshold):\", int((TP+FN)/P))\n",
    "\n",
    "score_whole=np.array(score)\n",
    "y_whole=np.array(y)\n",
    "\n",
    "print(\"\\nLet's make the above more general. Let's calculate TPR and FPR for several different tresholds\")\n",
    "print(\"and plot them against each other.\\n\")\n",
    "print(\"--------------ROC---------------RECEIVER---OPERATOR---CHARACTERSTIC-----------------------------------\\n\")\n",
    "      \n",
    "fpr, tpr, thresholds = roc_curve(y_whole,score_whole)\n",
    "\n",
    "print(\"When prob>treshold => return 1 else return 0\\n\")\n",
    "print(\"\\nprob tresholds:\\n\",thresholds)\n",
    "\n",
    "plt.plot(fpr,tpr)\n",
    "plt.show()\n",
    "print(\"--------------AUC-------------------------------AREA---UNDER---CURVE-----------------------------------\\n\")\n",
    "print(roc_auc_score(y_whole, score_whole))"
   ]
  },
  {
   "cell_type": "code",
   "execution_count": 14,
   "metadata": {},
   "outputs": [
    {
     "name": "stdout",
     "output_type": "stream",
     "text": [
      "\n",
      "sex matrix:\n",
      "[P(male^survived)/P(survived), P(female^survuved)/P(survived)]=\n",
      "[0.678, 0.322]\n",
      "\n",
      "pclass matrix:\n",
      "[P(pclass1^survived)/P(survived), P(pclass2^survived)/P(survived),P(pclass3^survived)/P(survived)]=\n",
      "[0.4, 0.238, 0.362]\n",
      "\n",
      "P(sex^class|survival) matrix (female,male)vs(1,2,3):\n",
      "\n",
      "[[0.278 0.122]\n",
      " [0.188 0.05 ]\n",
      " [0.212 0.15 ]]\n",
      "\n",
      " P(sex|survival)P(class|survival) matrix (female,male)vs(1,2,3):\n",
      "\n",
      "[[0.2712   0.1288  ]\n",
      " [0.161364 0.076636]\n",
      " [0.245436 0.116564]]\n",
      "\n",
      " When the following matrix is filled with 1 exclusively \n",
      " P(sex^class|survival) (matrix) = P(sex|survival)P(class|survival (matrix):\n",
      "\n",
      "[[0. 0.]\n",
      " [0. 0.]\n",
      " [0. 0.]]\n",
      "These features are not conditionally independent.\n"
     ]
    }
   ],
   "source": [
    "#c) Are those features conditionally independent?\n",
    "\n",
    "s=[(counts[combinations[6:9]].sum())/(counts[1].sum()),\\\n",
    "   (counts[combinations[9:12]].sum())/(counts[1].sum())]\n",
    "\n",
    "p=[(counts.loc[1,:,int(i+1)].sum())/(counts[1].sum()) for i in range(3)]\n",
    "\n",
    "print(\"\\nsex matrix:\\n[P(male^survived)/P(survived), P(female^survuved)/P(survived)]=\")\n",
    "print(s)\n",
    "print(\"\\npclass matrix:\\n[P(pclass1^survived)/P(survived), P(pclass2^survived)/P(survived)\\\n",
    ",P(pclass3^survived)/P(survived)]=\")\n",
    "print(p)\n",
    "\n",
    "Bayes_ind=np.zeros((3,2))\n",
    "Bayes_com=np.zeros((3,2)) \n",
    "\n",
    "for j in range(2):\n",
    "    for i in range(3):\n",
    "        Bayes_ind[i][j]=p[i]*s[j]\n",
    "    if(Bayes_rev[i][j]==Bayes_ind[i][j]):\n",
    "        Bayes_com[i][j]=1\n",
    "    else:\n",
    "        Bayes_com[i][j]=0\n",
    "\n",
    "        \n",
    "print(\"\\nP(sex^class|survival) matrix (female,male)vs(1,2,3):\\n\")\n",
    "print(np.matrix(Bayes_rev))\n",
    "print(\"\\n P(sex|survival)P(class|survival) matrix (female,male)vs(1,2,3):\\n\")\n",
    "print(np.matrix(Bayes_ind))\n",
    "print(\"\\n When the following matrix is filled with 1 exclusively \\\n",
    "\\n P(sex^class|survival) (matrix) = \\\n",
    "P(sex|survival)P(class|survival (matrix):\\n\")\n",
    "print(np.matrix(Bayes_com))\n",
    "print(\"These features are not conditionally independent.\")\n"
   ]
  },
  {
   "cell_type": "code",
   "execution_count": 18,
   "metadata": {},
   "outputs": [
    {
     "name": "stdout",
     "output_type": "stream",
     "text": [
      "\n",
      "Naive Bayes Classifier Matrix (female,male)vs(1,2,3):\n",
      "\n",
      "[[1.17926361 0.30959605]\n",
      " [0.81818331 0.21480042]\n",
      " [0.48620091 0.12764396]]\n",
      "\n",
      "Naive Bayes Classifier Matrix, classification with treshold prob=0.5 output, (female,male)vs(1,2,3):\n",
      "\n",
      "[[1 0]\n",
      " [1 0]\n",
      " [0 0]]\n",
      "\n",
      "When prob>0.5 => return 1 else return 0\n",
      "\n",
      "\n",
      "TP(for prob=0.5 treshold):  233\n",
      "FP(for prob=0.5 treshold):  17\n",
      "TN(for prob=0.5 treshold):  792\n",
      "FN(for prob=0.5 treshold):  267\n",
      "\n",
      "\n",
      "TPR(for prob=0.5 treshold):  0.466\n",
      "FPR(for prob=0.5 treshold):  0.021013597033374538\n",
      "TNR(for prob=0.5 treshold):  0.9789864029666254\n",
      "FNR(for prob=0.5 treshold):  0.534\n",
      "TNR+FPR(for prob=0.5 treshold):  1\n",
      "TPR+FNR(for prob=0.5 treshold): 1\n",
      "\n",
      "Let's make the above more general. Let's calculate TPR and FPR for several different tresholds\n",
      "and plot them against each other.\n",
      "\n",
      "--------------ROC---------------RECEIVER---OPERATOR---CHARACTERSTIC-----------------------------------\n",
      "\n",
      "When prob>treshold => return 1 else return 0\n",
      "\n",
      "\n",
      "prob tresholds:\n",
      " [2.17926361 1.17926361 0.81818331 0.48620091 0.30959605 0.21480042\n",
      " 0.12764396]\n"
     ]
    },
    {
     "data": {
      "image/png": "[encoded data removed]",
      "text/plain": [
       "<Figure size 432x288 with 1 Axes>"
      ]
     },
     "metadata": {
      "needs_background": "light"
     },
     "output_type": "display_data"
    },
    {
     "name": "stdout",
     "output_type": "stream",
     "text": [
      "--------------AUC-------------------------------AREA---UNDER---CURVE-----------------------------------\n",
      "\n",
      "0.8187651421508035\n"
     ]
    }
   ],
   "source": [
    "#d).\n",
    "NaiveBayes=np.zeros((3,2))\n",
    "for i in range(int(n/2)):\n",
    "    if (i%2==0):\n",
    "        ssxn='female'\n",
    "    else:\n",
    "        ssxn='male'\n",
    "    NaiveBayesdenoms=(counts.loc[:,ssxn,:].sum())/(counts.sum())\n",
    "    NaiveBayesdenompc=(counts.loc[:,:,int(i%3+1)].sum()/(counts.sum()))\n",
    "    NaiveBayes[i%3][i%2]=((Bayes_ind[i%3][i%2]*counts[1].sum())/counts.sum())/(NaiveBayesdenoms*NaiveBayesdenompc)\n",
    "                                                   \n",
    "    \n",
    "NaiveBayes_bin=np.zeros((3,2))\n",
    "NaiveBayes_bin=np.where(NaiveBayes > 0.5, 1, 0)\n",
    "\n",
    "print(\"\\nNaive Bayes Classifier Matrix (female,male)vs(1,2,3):\\n\")\n",
    "print(np.matrix(NaiveBayes))\n",
    "\n",
    "\n",
    "\n",
    "print(\"\\nNaive Bayes Classifier Matrix, classification with treshold prob=0.5 output, (female,male)vs(1,2,3):\\n\")\n",
    "print(np.matrix(NaiveBayes_bin))\n",
    "\n",
    "TPRn=0\n",
    "FPRn=0\n",
    "TPn=0\n",
    "FPn=0\n",
    "TNn=0\n",
    "FNn=0\n",
    "Pn=0\n",
    "Nn=0\n",
    "scoren=[]\n",
    "yn=[]\n",
    "\n",
    "for k in range(dane.shape[0]):\n",
    "    \n",
    "    pclasssn=dane[k][0]\n",
    "    sexxn=dane[k][1]\n",
    "    if(sexxn=='male'):\n",
    "        sexxn=1\n",
    "    else:\n",
    "        sexxn=0\n",
    "    \n",
    "    labeln=dane[k][2]\n",
    "    \n",
    "    yn.append([labeln])\n",
    "    scoren.append([NaiveBayes[pclasssn-1][sexxn]])\n",
    "       \n",
    "    if(NaiveBayes_bin[pclasssn-1][sexxn]==1):   \n",
    "        if((dane[k][2]==NaiveBayes_bin[pclasssn-1][sexxn])):\n",
    "            TPn=TPn+1\n",
    "            Pn=Pn+1\n",
    "        else:\n",
    "            FPn=FPn+1\n",
    "            Nn=Nn+1\n",
    "            \n",
    "    if(NaiveBayes_bin[pclasssn-1][sexxn]==0):   \n",
    "        if((dane[k][2]==NaiveBayes_bin[pclasssn-1][sexxn])):\n",
    "            TNn=TNn+1\n",
    "            Nn=Nn+1\n",
    "        else:\n",
    "            FNn=FNn+1\n",
    "            Pn=Pn+1\n",
    "\n",
    "print(\"\\nWhen prob>0.5 => return 1 else return 0\\n\")            \n",
    "print(\"\\nTP(for prob=0.5 treshold): \", int(TPn))\n",
    "print(\"FP(for prob=0.5 treshold): \", int(FPn))\n",
    "print(\"TN(for prob=0.5 treshold): \", int(TNn))\n",
    "print(\"FN(for prob=0.5 treshold): \", int(FNn))\n",
    "print(\"\\n\")\n",
    "print(\"TPR(for prob=0.5 treshold): \", float(TPn/Pn))\n",
    "print(\"FPR(for prob=0.5 treshold): \", float(FPn/Nn))\n",
    "print(\"TNR(for prob=0.5 treshold): \", float(TNn/Nn))\n",
    "print(\"FNR(for prob=0.5 treshold): \", float(FNn/Pn))\n",
    "\n",
    "print(\"TNR+FPR(for prob=0.5 treshold): \", int((TNn+FPn)/Nn))\n",
    "print(\"TPR+FNR(for prob=0.5 treshold):\", int((TPn+FNn)/Pn))\n",
    "\n",
    "score_wholen=np.array(scoren)\n",
    "y_wholen=np.array(yn)\n",
    "\n",
    "print(\"\\nLet's make the above more general. Let's calculate TPR and FPR for several different tresholds\")\n",
    "print(\"and plot them against each other.\\n\")\n",
    "print(\"--------------ROC---------------RECEIVER---OPERATOR---CHARACTERSTIC-----------------------------------\\n\")\n",
    "      \n",
    "fprn, tprn, thresholdsn = roc_curve(y_wholen,score_wholen)\n",
    "\n",
    "print(\"When prob>treshold => return 1 else return 0\\n\")\n",
    "print(\"\\nprob tresholds:\\n\",thresholdsn)\n",
    "\n",
    "plt.plot(fprn,tprn)\n",
    "plt.show()\n",
    "print(\"--------------AUC-------------------------------AREA---UNDER---CURVE-----------------------------------\\n\")\n",
    "print(roc_auc_score(y_wholen, score_wholen))"
   ]
  },
  {
   "cell_type": "code",
   "execution_count": 19,
   "metadata": {},
   "outputs": [
    {
     "name": "stdout",
     "output_type": "stream",
     "text": [
      "\n",
      "\n",
      "------------COMPARISON--BAYES--CLASSIFIER--vs--NAIVE--BAYES--CLASSIFIER-------------------------------\n",
      "\n",
      "\n",
      "ROC curves for Bayes Classifier (blue) and Naive Bayes Classifier (red)\n",
      "\n"
     ]
    },
    {
     "data": {
      "image/png": "[encoded data removed]",
      "text/plain": [
       "<Figure size 1080x432 with 1 Axes>"
      ]
     },
     "metadata": {
      "needs_background": "light"
     },
     "output_type": "display_data"
    },
    {
     "name": "stdout",
     "output_type": "stream",
     "text": [
      "\n",
      "AUC Naive Bayes Classifier:\n",
      "0.8187651421508035\n",
      "\n",
      "AUC Bayes Classifier:\n",
      "0.8200012360939432\n",
      "\n",
      "We can see that for the whole dataset ROC and AUC\n",
      "are pretty much the same for Bayes Classifier and Naive Bayes Classifier.\n",
      "ROC and AUC is a bit better for the Bayes Classifier though.\n"
     ]
    }
   ],
   "source": [
    "print(\"\\n\\n------------COMPARISON--BAYES--CLASSIFIER--vs--NAIVE--BAYES--CLASSIFIER-------------------------------\\n\")\n",
    "\n",
    "print(\"\\nROC curves for Bayes Classifier (blue) and Naive Bayes Classifier (red)\\n\")\n",
    "fig = plt.figure(figsize=(15,6))\n",
    "\n",
    "ax = fig.add_subplot(111)\n",
    "ax.set_title(\"ROC curve\")\n",
    "ax.set_xlabel(\"False Positive Rate\",fontsize=12)\n",
    "ax.set_ylabel(\"True Positive Rate\",fontsize=12)\n",
    "\n",
    "ax.plot(fpr, tpr,color=\"blue\")\n",
    "ax.plot(fprn, tprn, color='red')\n",
    "\n",
    "plt.show()\n",
    "\n",
    "print(\"\\nAUC Naive Bayes Classifier:\")\n",
    "print(roc_auc_score(y_wholen, score_wholen))\n",
    "print(\"\\nAUC Bayes Classifier:\")\n",
    "print(roc_auc_score(y_whole, score_whole))\n",
    "\n",
    "\n",
    "print(\"\\nWe can see that for the whole dataset ROC and AUC\")\n",
    "print(\"are pretty much the same for Bayes Classifier and Naive Bayes Classifier.\")\n",
    "print(\"ROC and AUC is a bit better for the Bayes Classifier though.\")"
   ]
  },
  {
   "cell_type": "markdown",
   "metadata": {},
   "source": [
    "## Problem 2"
   ]
  },
  {
   "cell_type": "markdown",
   "metadata": {},
   "source": [
    "Add age as a feature and implement naive bayes classifier. "
   ]
  },
  {
   "cell_type": "markdown",
   "metadata": {},
   "source": [
    "#### Hint: \n",
    "Consider using it as a categorical variable"
   ]
  },
  {
   "cell_type": "code",
   "execution_count": 21,
   "metadata": {},
   "outputs": [
    {
     "name": "stdout",
     "output_type": "stream",
     "text": [
      "I chose the following features: pclass, sex, survived, age.\n",
      "The first five records of data_pclass_sex_age_train and data_pclass_sex_age_test:\n",
      "\n",
      "   survived     sex  pclass      age\n",
      "0         1  female       1  29.0000\n",
      "1         1    male       1   0.9167\n",
      "2         0  female       1   2.0000\n",
      "3         0    male       1  30.0000\n",
      "4         0  female       1  25.0000\n",
      "\n",
      "\n",
      "Data after adding age_category (child(0-18), adult(18-65), senior(64,99)).\n",
      "The first five records of data_pclass_sex_age_train and data_pclass_sex_age_test:\n",
      "\n",
      "   survived     sex  pclass age_category\n",
      "0         1  female       1        adult\n",
      "1         1    male       1        child\n",
      "2         0  female       1        child\n",
      "3         0    male       1        adult\n",
      "4         0  female       1        adult\n"
     ]
    }
   ],
   "source": [
    "data_with_age = data.copy()\n",
    "data_pclass_sex_age = data_with_age[['survived','sex','pclass','age']]\n",
    "data_pclass_sex_age = data_pclass_sex_age.dropna(how='any')\n",
    "\n",
    "\n",
    "print(\"I chose the following features: pclass, sex, survived, age.\")\n",
    "print(\"The first five records of data_pclass_sex_age_train and data_pclass_sex_age_test:\\n\")\n",
    "print(data_pclass_sex_age.head())\n",
    "age_category = pd.cut(data_pclass_sex_age['age'], bins=[0,18,65,99], labels=['child','adult','senior'])\n",
    "\n",
    "data_pclass_sex_age = data_pclass_sex_age.drop(columns=['age'])\n",
    "data_pclass_sex_age.insert(3,'age_category',age_category)\n",
    "\n",
    "print(\"\\n\\nData after adding age_category (child(0-18), adult(18-65), senior(64,99)).\")\n",
    "print(\"The first five records of data_pclass_sex_age_train and data_pclass_sex_age_test:\\n\")\n",
    "print(data_pclass_sex_age.head())"
   ]
  },
  {
   "cell_type": "code",
   "execution_count": 27,
   "metadata": {},
   "outputs": [
    {
     "name": "stdout",
     "output_type": "stream",
     "text": [
      "\n",
      "Counts of dead and survivors in our data sample:\n",
      "survived  sex     pclass  age_category\n",
      "0         female  1       child             1\n",
      "                          adult             4\n",
      "                          senior            0\n",
      "                  2       child             1\n",
      "                          adult            10\n",
      "                          senior            0\n",
      "                  3       child            27\n",
      "                          adult            53\n",
      "                          senior            0\n",
      "          male    1       child             2\n",
      "                          adult            92\n",
      "                          senior            4\n",
      "                  2       child            10\n",
      "                          adult           123\n",
      "                          senior            2\n",
      "                  3       child            57\n",
      "                          adult           231\n",
      "                          senior            2\n",
      "1         female  1       child            12\n",
      "                          adult           115\n",
      "                          senior            1\n",
      "                  2       child            20\n",
      "                          adult            72\n",
      "                          senior            0\n",
      "                  3       child            31\n",
      "                          adult            41\n",
      "                          senior            0\n",
      "          male    1       child             6\n",
      "                          adult            46\n",
      "                          senior            1\n",
      "                  2       child            11\n",
      "                          adult            12\n",
      "                          senior            0\n",
      "                  3       child            15\n",
      "                          adult            44\n",
      "                          senior            0\n",
      "dtype: int64\n"
     ]
    }
   ],
   "source": [
    "grouped_with_age = data_pclass_sex_age.groupby(['survived','sex','pclass','age_category'])\n",
    "counts_with_age = grouped_with_age.size()\n",
    "\n",
    "print(\"\\nCounts of dead and survivors in our data sample:\")\n",
    "print(counts_with_age)"
   ]
  },
  {
   "cell_type": "code",
   "execution_count": 51,
   "metadata": {},
   "outputs": [],
   "source": [
    "#2 b). There is more possible combinations of passenger's features so \n",
    "#I will use pandas instead of numpy like in the 1 problem.\n",
    "#I will define a function and apply it to all records of the given dataset.\n",
    "\n",
    "def naivebayes(row):    \n",
    "\n",
    "    P_surv=counts_with_age[1].sum()/counts_with_age.sum()\n",
    "    \n",
    "    if row['sex'] == 'female':\n",
    "        Psx=counts_with_age.loc[1,'female',:,:].sum()/counts_with_age[1].sum()\n",
    "    else:\n",
    "        Psx=counts_with_age.loc[1,'male',:,:].sum()/counts_with_age[1].sum()\n",
    "    if row['pclass'] == 1:\n",
    "         Pclass= counts_with_age.loc[1,:,1,:].sum()/counts_with_age[1].sum()\n",
    "    elif row['pclass'] == 2:\n",
    "         Pclass= counts_with_age.loc[1,:,2,:].sum()/counts_with_age[1].sum()\n",
    "    else:\n",
    "        Pclass= counts_with_age.loc[1,:,3,:].sum()/counts_with_age[1].sum()\n",
    "    if row['age_category'] == 'child':\n",
    "        Pa=counts_with_age.loc[1,:,:,'child'].sum()/counts_with_age[1].sum()\n",
    "    elif row['age_category'] == 'adult':\n",
    "        Pa=counts_with_age.loc[1,:,:,'adult'].sum()/counts_with_age[1].sum()\n",
    "    else:\n",
    "        Pa=counts_with_age.loc[1,:,:,'senior'].sum()/counts_with_age[1].sum()\n",
    "    \n",
    "#    Psx_age_class=counts_with_age.loc[:,row['sex'],row['pclass'],row['age_category']].sum()/counts_with_age.sum()\n",
    "    counts_with_age.loc[1,'female',:,:]\n",
    "    \n",
    "    \n",
    "    Psx_age_class=\n",
    "    \n",
    "    val = (Pa*Psx*Pclass*P_surv)/Psx_age_class\n",
    "\n",
    "    return val"
   ]
  },
  {
   "cell_type": "code",
   "execution_count": 52,
   "metadata": {},
   "outputs": [
    {
     "data": {
      "text/html": [
       "<div>\n",
       "<style scoped>\n",
       "    .dataframe tbody tr th:only-of-type {\n",
       "        vertical-align: middle;\n",
       "    }\n",
       "\n",
       "    .dataframe tbody tr th {\n",
       "        vertical-align: top;\n",
       "    }\n",
       "\n",
       "    .dataframe thead th {\n",
       "        text-align: right;\n",
       "    }\n",
       "</style>\n",
       "<table border=\"1\" class=\"dataframe\">\n",
       "  <thead>\n",
       "    <tr style=\"text-align: right;\">\n",
       "      <th></th>\n",
       "      <th>survived</th>\n",
       "      <th>sex</th>\n",
       "      <th>pclass</th>\n",
       "      <th>age_category</th>\n",
       "      <th>nb_probability</th>\n",
       "      <th>survived prediction</th>\n",
       "      <th>TP</th>\n",
       "      <th>FP</th>\n",
       "      <th>TN</th>\n",
       "      <th>FN</th>\n",
       "    </tr>\n",
       "  </thead>\n",
       "  <tbody>\n",
       "    <tr>\n",
       "      <th>0</th>\n",
       "      <td>1</td>\n",
       "      <td>female</td>\n",
       "      <td>1</td>\n",
       "      <td>adult</td>\n",
       "      <td>0.001077</td>\n",
       "      <td>0</td>\n",
       "      <td>0</td>\n",
       "      <td>0</td>\n",
       "      <td>0</td>\n",
       "      <td>1</td>\n",
       "    </tr>\n",
       "    <tr>\n",
       "      <th>1</th>\n",
       "      <td>1</td>\n",
       "      <td>male</td>\n",
       "      <td>1</td>\n",
       "      <td>child</td>\n",
       "      <td>0.000369</td>\n",
       "      <td>0</td>\n",
       "      <td>0</td>\n",
       "      <td>0</td>\n",
       "      <td>0</td>\n",
       "      <td>1</td>\n",
       "    </tr>\n",
       "    <tr>\n",
       "      <th>2</th>\n",
       "      <td>0</td>\n",
       "      <td>female</td>\n",
       "      <td>1</td>\n",
       "      <td>child</td>\n",
       "      <td>0.001354</td>\n",
       "      <td>0</td>\n",
       "      <td>0</td>\n",
       "      <td>0</td>\n",
       "      <td>1</td>\n",
       "      <td>0</td>\n",
       "    </tr>\n",
       "    <tr>\n",
       "      <th>3</th>\n",
       "      <td>0</td>\n",
       "      <td>male</td>\n",
       "      <td>1</td>\n",
       "      <td>adult</td>\n",
       "      <td>0.000294</td>\n",
       "      <td>0</td>\n",
       "      <td>0</td>\n",
       "      <td>0</td>\n",
       "      <td>1</td>\n",
       "      <td>0</td>\n",
       "    </tr>\n",
       "    <tr>\n",
       "      <th>4</th>\n",
       "      <td>0</td>\n",
       "      <td>female</td>\n",
       "      <td>1</td>\n",
       "      <td>adult</td>\n",
       "      <td>0.001077</td>\n",
       "      <td>0</td>\n",
       "      <td>0</td>\n",
       "      <td>0</td>\n",
       "      <td>1</td>\n",
       "      <td>0</td>\n",
       "    </tr>\n",
       "  </tbody>\n",
       "</table>\n",
       "</div>"
      ],
      "text/plain": [
       "   survived     sex  pclass age_category  nb_probability  survived prediction  \\\n",
       "0         1  female       1        adult        0.001077                    0   \n",
       "1         1    male       1        child        0.000369                    0   \n",
       "2         0  female       1        child        0.001354                    0   \n",
       "3         0    male       1        adult        0.000294                    0   \n",
       "4         0  female       1        adult        0.001077                    0   \n",
       "\n",
       "   TP  FP  TN  FN  \n",
       "0   0   0   0   1  \n",
       "1   0   0   0   1  \n",
       "2   0   0   1   0  \n",
       "3   0   0   1   0  \n",
       "4   0   0   1   0  "
      ]
     },
     "execution_count": 52,
     "metadata": {},
     "output_type": "execute_result"
    }
   ],
   "source": [
    "data_pclass_sex_age['nb_probability']=data_pclass_sex_age.apply(naivebayes, axis=1)\n",
    "data_pclass_sex_age.head()"
   ]
  },
  {
   "cell_type": "code",
   "execution_count": 48,
   "metadata": {},
   "outputs": [
    {
     "data": {
      "text/html": [
       "<div>\n",
       "<style scoped>\n",
       "    .dataframe tbody tr th:only-of-type {\n",
       "        vertical-align: middle;\n",
       "    }\n",
       "\n",
       "    .dataframe tbody tr th {\n",
       "        vertical-align: top;\n",
       "    }\n",
       "\n",
       "    .dataframe thead th {\n",
       "        text-align: right;\n",
       "    }\n",
       "</style>\n",
       "<table border=\"1\" class=\"dataframe\">\n",
       "  <thead>\n",
       "    <tr style=\"text-align: right;\">\n",
       "      <th></th>\n",
       "      <th>survived</th>\n",
       "      <th>sex</th>\n",
       "      <th>pclass</th>\n",
       "      <th>age_category</th>\n",
       "      <th>nb_probability</th>\n",
       "      <th>survived prediction</th>\n",
       "      <th>TP</th>\n",
       "      <th>FP</th>\n",
       "      <th>TN</th>\n",
       "      <th>FN</th>\n",
       "    </tr>\n",
       "  </thead>\n",
       "  <tbody>\n",
       "    <tr>\n",
       "      <th>0</th>\n",
       "      <td>1</td>\n",
       "      <td>female</td>\n",
       "      <td>1</td>\n",
       "      <td>adult</td>\n",
       "      <td>5.243395e-09</td>\n",
       "      <td>0</td>\n",
       "      <td>0</td>\n",
       "      <td>0</td>\n",
       "      <td>0</td>\n",
       "      <td>1</td>\n",
       "    </tr>\n",
       "    <tr>\n",
       "      <th>1</th>\n",
       "      <td>1</td>\n",
       "      <td>male</td>\n",
       "      <td>1</td>\n",
       "      <td>child</td>\n",
       "      <td>5.243395e-09</td>\n",
       "      <td>0</td>\n",
       "      <td>0</td>\n",
       "      <td>0</td>\n",
       "      <td>0</td>\n",
       "      <td>1</td>\n",
       "    </tr>\n",
       "    <tr>\n",
       "      <th>2</th>\n",
       "      <td>0</td>\n",
       "      <td>female</td>\n",
       "      <td>1</td>\n",
       "      <td>child</td>\n",
       "      <td>5.243395e-09</td>\n",
       "      <td>0</td>\n",
       "      <td>0</td>\n",
       "      <td>0</td>\n",
       "      <td>1</td>\n",
       "      <td>0</td>\n",
       "    </tr>\n",
       "    <tr>\n",
       "      <th>3</th>\n",
       "      <td>0</td>\n",
       "      <td>male</td>\n",
       "      <td>1</td>\n",
       "      <td>adult</td>\n",
       "      <td>5.243395e-09</td>\n",
       "      <td>0</td>\n",
       "      <td>0</td>\n",
       "      <td>0</td>\n",
       "      <td>1</td>\n",
       "      <td>0</td>\n",
       "    </tr>\n",
       "    <tr>\n",
       "      <th>4</th>\n",
       "      <td>0</td>\n",
       "      <td>female</td>\n",
       "      <td>1</td>\n",
       "      <td>adult</td>\n",
       "      <td>5.243395e-09</td>\n",
       "      <td>0</td>\n",
       "      <td>0</td>\n",
       "      <td>0</td>\n",
       "      <td>1</td>\n",
       "      <td>0</td>\n",
       "    </tr>\n",
       "  </tbody>\n",
       "</table>\n",
       "</div>"
      ],
      "text/plain": [
       "   survived     sex  pclass age_category  nb_probability  survived prediction  \\\n",
       "0         1  female       1        adult    5.243395e-09                    0   \n",
       "1         1    male       1        child    5.243395e-09                    0   \n",
       "2         0  female       1        child    5.243395e-09                    0   \n",
       "3         0    male       1        adult    5.243395e-09                    0   \n",
       "4         0  female       1        adult    5.243395e-09                    0   \n",
       "\n",
       "   TP  FP  TN  FN  \n",
       "0   0   0   0   1  \n",
       "1   0   0   0   1  \n",
       "2   0   0   1   0  \n",
       "3   0   0   1   0  \n",
       "4   0   0   1   0  "
      ]
     },
     "execution_count": 48,
     "metadata": {},
     "output_type": "execute_result"
    }
   ],
   "source": [
    "def categorizer(row):\n",
    "    if row['nb_probability']>0.5:\n",
    "        valc=1\n",
    "    else:\n",
    "        valc=0\n",
    "    return valc\n",
    "\n",
    "data_pclass_sex_age['survived prediction']=data_pclass_sex_age.apply(categorizer, axis=1)        \n",
    "data_pclass_sex_age.head()"
   ]
  },
  {
   "cell_type": "code",
   "execution_count": 38,
   "metadata": {},
   "outputs": [],
   "source": [
    "def TP(row):\n",
    "    if (row['survived']==row['survived prediction']) and (row['survived prediction']==1):\n",
    "        valtp=1\n",
    "    else:\n",
    "        valtp=0\n",
    "    return valtp\n",
    "\n",
    "def FP(row):\n",
    "    if (row['survived']!=row['survived prediction']) and (row['survived prediction']==1):\n",
    "        valfp=1\n",
    "    else:\n",
    "        valfp=0\n",
    "    return valfp\n",
    "\n",
    "def TN(row):\n",
    "    if (row['survived']==row['survived prediction']) and (row['survived prediction']==0):\n",
    "        valtn=1\n",
    "    else:\n",
    "        valtn=0\n",
    "    return valtn\n",
    "\n",
    "def FN(row):\n",
    "    if (row['survived']!=row['survived prediction']) and (row['survived prediction']==0):\n",
    "        valfn=1\n",
    "    else:\n",
    "        valfn=0\n",
    "    return valfn"
   ]
  },
  {
   "cell_type": "code",
   "execution_count": 39,
   "metadata": {},
   "outputs": [
    {
     "data": {
      "text/html": [
       "<div>\n",
       "<style scoped>\n",
       "    .dataframe tbody tr th:only-of-type {\n",
       "        vertical-align: middle;\n",
       "    }\n",
       "\n",
       "    .dataframe tbody tr th {\n",
       "        vertical-align: top;\n",
       "    }\n",
       "\n",
       "    .dataframe thead th {\n",
       "        text-align: right;\n",
       "    }\n",
       "</style>\n",
       "<table border=\"1\" class=\"dataframe\">\n",
       "  <thead>\n",
       "    <tr style=\"text-align: right;\">\n",
       "      <th></th>\n",
       "      <th>survived</th>\n",
       "      <th>sex</th>\n",
       "      <th>pclass</th>\n",
       "      <th>age_category</th>\n",
       "      <th>nb_probability</th>\n",
       "      <th>survived prediction</th>\n",
       "      <th>TP</th>\n",
       "      <th>FP</th>\n",
       "      <th>TN</th>\n",
       "      <th>FN</th>\n",
       "    </tr>\n",
       "  </thead>\n",
       "  <tbody>\n",
       "    <tr>\n",
       "      <th>0</th>\n",
       "      <td>1</td>\n",
       "      <td>female</td>\n",
       "      <td>1</td>\n",
       "      <td>adult</td>\n",
       "      <td>0.408222</td>\n",
       "      <td>0</td>\n",
       "      <td>0</td>\n",
       "      <td>0</td>\n",
       "      <td>0</td>\n",
       "      <td>1</td>\n",
       "    </tr>\n",
       "    <tr>\n",
       "      <th>1</th>\n",
       "      <td>1</td>\n",
       "      <td>male</td>\n",
       "      <td>1</td>\n",
       "      <td>child</td>\n",
       "      <td>0.408222</td>\n",
       "      <td>0</td>\n",
       "      <td>0</td>\n",
       "      <td>0</td>\n",
       "      <td>0</td>\n",
       "      <td>1</td>\n",
       "    </tr>\n",
       "    <tr>\n",
       "      <th>2</th>\n",
       "      <td>0</td>\n",
       "      <td>female</td>\n",
       "      <td>1</td>\n",
       "      <td>child</td>\n",
       "      <td>0.408222</td>\n",
       "      <td>0</td>\n",
       "      <td>0</td>\n",
       "      <td>0</td>\n",
       "      <td>1</td>\n",
       "      <td>0</td>\n",
       "    </tr>\n",
       "    <tr>\n",
       "      <th>3</th>\n",
       "      <td>0</td>\n",
       "      <td>male</td>\n",
       "      <td>1</td>\n",
       "      <td>adult</td>\n",
       "      <td>0.408222</td>\n",
       "      <td>0</td>\n",
       "      <td>0</td>\n",
       "      <td>0</td>\n",
       "      <td>1</td>\n",
       "      <td>0</td>\n",
       "    </tr>\n",
       "    <tr>\n",
       "      <th>4</th>\n",
       "      <td>0</td>\n",
       "      <td>female</td>\n",
       "      <td>1</td>\n",
       "      <td>adult</td>\n",
       "      <td>0.408222</td>\n",
       "      <td>0</td>\n",
       "      <td>0</td>\n",
       "      <td>0</td>\n",
       "      <td>1</td>\n",
       "      <td>0</td>\n",
       "    </tr>\n",
       "  </tbody>\n",
       "</table>\n",
       "</div>"
      ],
      "text/plain": [
       "   survived     sex  pclass age_category  nb_probability  survived prediction  \\\n",
       "0         1  female       1        adult        0.408222                    0   \n",
       "1         1    male       1        child        0.408222                    0   \n",
       "2         0  female       1        child        0.408222                    0   \n",
       "3         0    male       1        adult        0.408222                    0   \n",
       "4         0  female       1        adult        0.408222                    0   \n",
       "\n",
       "   TP  FP  TN  FN  \n",
       "0   0   0   0   1  \n",
       "1   0   0   0   1  \n",
       "2   0   0   1   0  \n",
       "3   0   0   1   0  \n",
       "4   0   0   1   0  "
      ]
     },
     "execution_count": 39,
     "metadata": {},
     "output_type": "execute_result"
    }
   ],
   "source": [
    "data_pclass_sex_age['TP']=data_pclass_sex_age.apply(TP, axis=1)    \n",
    "data_pclass_sex_age['FP']=data_pclass_sex_age.apply(FP, axis=1)\n",
    "data_pclass_sex_age['TN']=data_pclass_sex_age.apply(TN, axis=1)    \n",
    "data_pclass_sex_age['FN']=data_pclass_sex_age.apply(FN, axis=1)\n",
    "data_pclass_sex_age.head()"
   ]
  },
  {
   "cell_type": "code",
   "execution_count": 40,
   "metadata": {},
   "outputs": [
    {
     "name": "stdout",
     "output_type": "stream",
     "text": [
      "\n",
      "When prob>0.5 => return 1 else return 0\n",
      "\n",
      "\n",
      "TP(for prob=0.5 treshold):  0\n",
      "FP(for prob=0.5 treshold):  0\n",
      "TN(for prob=0.5 treshold):  619\n",
      "FN(for prob=0.5 treshold):  427\n",
      "\n",
      "\n",
      "TPR(for prob=0.5 treshold):  0.0\n",
      "FPR(for prob=0.5 treshold):  0.0\n",
      "TNR(for prob=0.5 treshold):  1.0\n",
      "FNR(for prob=0.5 treshold):  1.0\n",
      "TNR+FPR(for prob=0.5 treshold):  1\n",
      "TPR+FNR(for prob=0.5 treshold):  1\n",
      "\n",
      "Let's make the above more general. Let's calculate TPR and FPR for several different tresholds\n",
      "and plot them against each other.\n",
      "\n",
      "--------------ROC---------------RECEIVER---OPERATOR---CHARACTERSTIC-----------------------------------\n",
      "\n",
      "When prob>treshold => return 1 else return 0\n",
      "\n",
      "\n",
      "prob tresholds:\n",
      " [1.4082218 0.4082218 0.4082218 0.4082218 0.4082218 0.4082218]\n"
     ]
    },
    {
     "data": {
      "image/png": "[encoded data removed]",
      "text/plain": [
       "<Figure size 432x288 with 1 Axes>"
      ]
     },
     "metadata": {
      "needs_background": "light"
     },
     "output_type": "display_data"
    },
    {
     "name": "stdout",
     "output_type": "stream",
     "text": [
      "--------------AUC-------------------------------AREA---UNDER---CURVE-----------------------------------\n",
      "\n",
      "0.5569457423584916\n"
     ]
    }
   ],
   "source": [
    "tp=data_pclass_sex_age['TP'].sum()\n",
    "fp=data_pclass_sex_age['FP'].sum()\n",
    "tn=data_pclass_sex_age['TN'].sum()\n",
    "fn=data_pclass_sex_age['FN'].sum()\n",
    "p=tp+fn\n",
    "n=tn+fp\n",
    "\n",
    "\n",
    "print(\"\\nWhen prob>0.5 => return 1 else return 0\\n\")            \n",
    "print(\"\\nTP(for prob=0.5 treshold): \", int(tp))\n",
    "print(\"FP(for prob=0.5 treshold): \", int(fp))\n",
    "print(\"TN(for prob=0.5 treshold): \", int(tn))\n",
    "print(\"FN(for prob=0.5 treshold): \", int(fn))\n",
    "print(\"\\n\")\n",
    "print(\"TPR(for prob=0.5 treshold): \", float(tp/p))\n",
    "print(\"FPR(for prob=0.5 treshold): \", float(fp/n))\n",
    "print(\"TNR(for prob=0.5 treshold): \", float(tn/n))\n",
    "print(\"FNR(for prob=0.5 treshold): \", float(fn/p))\n",
    "\n",
    "print(\"TNR+FPR(for prob=0.5 treshold): \", int((tn+fp)/n))\n",
    "print(\"TPR+FNR(for prob=0.5 treshold): \", int((tp+fn)/p))\n",
    "\n",
    "labels2 = data_pclass_sex_age[['survived']]\n",
    "score2 = data_pclass_sex_age[['nb_probability']]\n",
    "\n",
    "print(\"\\nLet's make the above more general. Let's calculate TPR and FPR for several different tresholds\")\n",
    "print(\"and plot them against each other.\\n\")\n",
    "print(\"--------------ROC---------------RECEIVER---OPERATOR---CHARACTERSTIC-----------------------------------\\n\")\n",
    "      \n",
    "fpr2, tpr2, thresholds2 = roc_curve(labels2, score2)\n",
    "\n",
    "print(\"When prob>treshold => return 1 else return 0\\n\")\n",
    "print(\"\\nprob tresholds:\\n\",thresholds2)\n",
    "\n",
    "plt.plot(fpr2,tpr2)\n",
    "plt.show()\n",
    "print(\"--------------AUC-------------------------------AREA---UNDER---CURVE-----------------------------------\\n\")\n",
    "print(roc_auc_score(labels2, score2))"
   ]
  },
  {
   "cell_type": "code",
   "execution_count": 34,
   "metadata": {},
   "outputs": [
    {
     "name": "stdout",
     "output_type": "stream",
     "text": [
      "\n",
      "\n",
      "------------COMPARISON--BAYES--CLASSIFIER--vs--NAIVE--BAYES--CLASSIFIER---WITH_AGE/WITHOUT_AGE--------------\n",
      "\n",
      "\n",
      "ROC curves for Bayes Classifier (without age) (blue) and Naive Bayes Classifier with age (green)/without age (red)\n",
      "\n"
     ]
    },
    {
     "data": {
      "image/png": "[encoded data removed]",
      "text/plain": [
       "<Figure size 1080x432 with 1 Axes>"
      ]
     },
     "metadata": {
      "needs_background": "light"
     },
     "output_type": "display_data"
    },
    {
     "name": "stdout",
     "output_type": "stream",
     "text": [
      "\n",
      "AUC Bayes Classifier (without age) blue:\n",
      "0.8200012360939432\n",
      "\n",
      "AUC Naive Bayes Classifier (without age) red:\n",
      "0.8187651421508035\n",
      "\n",
      "AUC Naive Bayes Classifier (with age) green:\n",
      "0.8286557982392088\n",
      "\n",
      "AUC and ROC of Naive Bayes Classifier with age (green) seems to be the best.\n"
     ]
    }
   ],
   "source": [
    "print(\"\\n\\n------------COMPARISON--BAYES--CLASSIFIER--vs--NAIVE--BAYES--CLASSIFIER---WITH_AGE/WITHOUT_AGE--------------\\n\")\n",
    "\n",
    "print(\"\\nROC curves for Bayes Classifier (without age) (blue) and Naive Bayes Classifier with age (green)/without age (red)\\n\")\n",
    "fig = plt.figure(figsize=(15,6))\n",
    "\n",
    "ax = fig.add_subplot(111)\n",
    "ax.set_title(\"ROC curve\")\n",
    "ax.set_xlabel(\"False Positive Rate\",fontsize=12)\n",
    "ax.set_ylabel(\"True Positive Rate\",fontsize=12)\n",
    "\n",
    "ax.plot(fpr, tpr,color=\"blue\")\n",
    "ax.plot(fprn, tprn, color='red')\n",
    "ax.plot(fpr2,tpr2, color='green')\n",
    "\n",
    "plt.show()\n",
    "\n",
    "print(\"\\nAUC Bayes Classifier (without age) blue:\")\n",
    "print(roc_auc_score(y_whole, score_whole))\n",
    "\n",
    "print(\"\\nAUC Naive Bayes Classifier (without age) red:\")\n",
    "print(roc_auc_score(y_wholen, score_wholen))\n",
    "\n",
    "print(\"\\nAUC Naive Bayes Classifier (with age) green:\")\n",
    "print(roc_auc_score(labels2, score2))\n",
    "\n",
    "print(\"\\nAUC and ROC of Naive Bayes Classifier with age (green) seems to be the best.\")"
   ]
  },
  {
   "cell_type": "code",
   "execution_count": null,
   "metadata": {},
   "outputs": [],
   "source": []
  }
 ],
 "metadata": {
  "kernelspec": {
   "display_name": "Python 3",
   "language": "python",
   "name": "python3"
  },
  "language_info": {
   "codemirror_mode": {
    "name": "ipython",
    "version": 3
   },
   "file_extension": ".py",
   "mimetype": "text/x-python",
   "name": "python",
   "nbconvert_exporter": "python",
   "pygments_lexer": "ipython3",
   "version": "3.7.6"
  }
 },
 "nbformat": 4,
 "nbformat_minor": 4
}
